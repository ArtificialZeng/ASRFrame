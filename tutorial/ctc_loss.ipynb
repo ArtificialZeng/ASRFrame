{
 "cells": [
  {
   "cell_type": "code",
   "execution_count": 1,
   "metadata": {},
   "outputs": [],
   "source": [
    "import numpy as np"
   ]
  },
  {
   "cell_type": "code",
   "execution_count": 2,
   "metadata": {},
   "outputs": [
    {
     "name": "stderr",
     "output_type": "stream",
     "text": [
      "Using TensorFlow backend.\n"
     ]
    }
   ],
   "source": [
    "import  keras.backend as K"
   ]
  },
  {
   "cell_type": "code",
   "execution_count": 3,
   "metadata": {},
   "outputs": [],
   "source": [
    "import tensorflow as tf"
   ]
  },
  {
   "cell_type": "code",
   "execution_count": 80,
   "metadata": {},
   "outputs": [],
   "source": [
    "a = [1,2,3,1,2,4,6,6,6,6]\n",
    "b = [3,1,2,3,3,1,6,6,6,6] # 真实标签不能有blank\n",
    "c = [2,1,0,2,3,4,6,6,6,6]\n",
    "y_true = np.stack([a,b,c]).astype(np.float32)"
   ]
  },
  {
   "cell_type": "code",
   "execution_count": 81,
   "metadata": {},
   "outputs": [],
   "source": [
    "y_pred = np.random.rand(3,20,6).astype(np.float32) # 实际上字母表只能有5\n",
    "\n",
    "input_length = K.stack([[7],[7],[7]])\n",
    "# input_length = tf.to_int32(tf.squeeze(input_length, axis=-1))\n",
    "\n",
    "label_length = K.stack([[6],[6],[5]])\n",
    "# label_length = tf.to_int32(tf.squeeze(label_length, axis=-1))\n"
   ]
  },
  {
   "cell_type": "code",
   "execution_count": 82,
   "metadata": {},
   "outputs": [
    {
     "data": {
      "text/plain": [
       "array([[ 8.3892765],\n",
       "       [13.023777 ],\n",
       "       [ 9.0743685]], dtype=float32)"
      ]
     },
     "execution_count": 82,
     "metadata": {},
     "output_type": "execute_result"
    }
   ],
   "source": [
    "result = K.ctc_batch_cost(y_true,y_pred,input_length,label_length)\n",
    "K.eval(result)"
   ]
  },
  {
   "cell_type": "markdown",
   "metadata": {},
   "source": [
    "预处理长度标签"
   ]
  },
  {
   "cell_type": "code",
   "execution_count": 5,
   "metadata": {},
   "outputs": [
    {
     "name": "stdout",
     "output_type": "stream",
     "text": [
      "WARNING:tensorflow:From <ipython-input-5-d99062b88e65>:4: to_int32 (from tensorflow.python.ops.math_ops) is deprecated and will be removed in a future version.\n",
      "Instructions for updating:\n",
      "Use tf.cast instead.\n"
     ]
    }
   ],
   "source": []
  },
  {
   "cell_type": "code",
   "execution_count": 41,
   "metadata": {},
   "outputs": [
    {
     "name": "stdout",
     "output_type": "stream",
     "text": [
      "[[2 0 1 1 1 0 1 2 2 0 1 2 2 2 2 0 0 2 1 0]\n",
      " [0 0 2 0 0 1 1 0 0 1 1 2 0 0 2 0 2 1 2 2]\n",
      " [2 1 2 0 1 2 1 1 0 0 0 2 0 0 2 1 1 1 0 0]]\n",
      "[[ 0  1  0  1  0  0  0  1]\n",
      " [ 0  1  1  1  0  1 -1 -1]\n",
      " [ 0  1  1  1  0  1  1 -1]]\n"
     ]
    }
   ],
   "source": [
    "y_pred = K.random_uniform((3,20,3),dtype = tf.float32)\n",
    "input_length = K.stack([[16],[16],[16]])\n",
    "input_length = tf.to_int32(tf.squeeze(input_length, axis=-1))\n",
    "\n",
    "y_pred = K.softmax(y_pred)\n",
    "\n",
    "npy = K.eval(y_pred)\n",
    "\n",
    "argres = K.argmax(y_pred)\n",
    "print(K.eval(argres))\n",
    "\n",
    "res = K.ctc_decode(y_pred,input_length,True)\n",
    "# print(res[0][0])\n",
    "print(K.get_value(res[0][0]))"
   ]
  },
  {
   "cell_type": "code",
   "execution_count": 24,
   "metadata": {},
   "outputs": [],
   "source": [
    "from matplotlib import pyplot as plt"
   ]
  },
  {
   "cell_type": "code",
   "execution_count": 28,
   "metadata": {},
   "outputs": [
    {
     "data": {
      "text/plain": [
       "<matplotlib.image.AxesImage at 0x18fa952e0f0>"
      ]
     },
     "execution_count": 28,
     "metadata": {},
     "output_type": "execute_result"
    },
    {
     "data": {
      "image/png": "[encoded data removed]",
      "text/plain": [
       "<Figure size 432x288 with 1 Axes>"
      ]
     },
     "metadata": {
      "needs_background": "light"
     },
     "output_type": "display_data"
    }
   ],
   "source": [
    "plt.imshow(npy)"
   ]
  },
  {
   "cell_type": "code",
   "execution_count": 29,
   "metadata": {},
   "outputs": [
    {
     "data": {
      "text/plain": [
       "array([[[0.20023355, 0.32307166, 0.4766948 ],\n",
       "        [0.4011294 , 0.40913573, 0.18973489],\n",
       "        [0.2731297 , 0.48647198, 0.24039835],\n",
       "        [0.40608773, 0.28076187, 0.31315044],\n",
       "        [0.24268793, 0.3918834 , 0.36542872],\n",
       "        [0.23296367, 0.28131068, 0.4857257 ],\n",
       "        [0.37305185, 0.25081688, 0.3761313 ],\n",
       "        [0.29544595, 0.4389235 , 0.26563054],\n",
       "        [0.37625974, 0.34488413, 0.27885607],\n",
       "        [0.38269362, 0.23268273, 0.38462374],\n",
       "        [0.2532506 , 0.25779969, 0.48894972],\n",
       "        [0.3584399 , 0.43123007, 0.21032996],\n",
       "        [0.35479924, 0.20467289, 0.4405279 ],\n",
       "        [0.32194534, 0.33220798, 0.34584668],\n",
       "        [0.48599094, 0.27127713, 0.24273199],\n",
       "        [0.4510872 , 0.2620922 , 0.28682062],\n",
       "        [0.22533661, 0.42409223, 0.35057113],\n",
       "        [0.28591192, 0.4417597 , 0.27232832],\n",
       "        [0.46001107, 0.25427112, 0.28571782],\n",
       "        [0.2979188 , 0.22493517, 0.47714597]],\n",
       "\n",
       "       [[0.3019895 , 0.36636353, 0.33164695],\n",
       "        [0.29811713, 0.4118163 , 0.2900666 ],\n",
       "        [0.2241813 , 0.4456349 , 0.33018386],\n",
       "        [0.426134  , 0.22229148, 0.3515745 ],\n",
       "        [0.45133004, 0.21058455, 0.33808535],\n",
       "        [0.3631899 , 0.2535368 , 0.38327324],\n",
       "        [0.25162917, 0.31877652, 0.4295943 ],\n",
       "        [0.29737055, 0.42274827, 0.2798812 ],\n",
       "        [0.4675489 , 0.29178807, 0.24066308],\n",
       "        [0.19069509, 0.4543295 , 0.35497543],\n",
       "        [0.35480028, 0.22802868, 0.41717103],\n",
       "        [0.26295802, 0.44896787, 0.28807414],\n",
       "        [0.33753353, 0.2340476 , 0.4284188 ],\n",
       "        [0.33959675, 0.301944  , 0.35845926],\n",
       "        [0.2838754 , 0.39168847, 0.32443613],\n",
       "        [0.42766112, 0.32703203, 0.24530685],\n",
       "        [0.2720201 , 0.43018356, 0.29779634],\n",
       "        [0.420143  , 0.41648614, 0.16337086],\n",
       "        [0.3954051 , 0.35710433, 0.24749063],\n",
       "        [0.3785894 , 0.28971043, 0.33170012]],\n",
       "\n",
       "       [[0.3556863 , 0.34433147, 0.29998225],\n",
       "        [0.23797306, 0.23971157, 0.5223153 ],\n",
       "        [0.3582414 , 0.3575633 , 0.2841953 ],\n",
       "        [0.43458337, 0.24976459, 0.31565204],\n",
       "        [0.48271456, 0.22545822, 0.29182726],\n",
       "        [0.3068261 , 0.470454  , 0.2227199 ],\n",
       "        [0.41219464, 0.27372012, 0.31408516],\n",
       "        [0.21005757, 0.46648487, 0.32345757],\n",
       "        [0.2749541 , 0.41359302, 0.31145284],\n",
       "        [0.32460123, 0.38242504, 0.29297367],\n",
       "        [0.3180551 , 0.29439345, 0.38755143],\n",
       "        [0.32558036, 0.33676967, 0.33764997],\n",
       "        [0.34477645, 0.39017928, 0.2650442 ],\n",
       "        [0.26673904, 0.36244038, 0.37082058],\n",
       "        [0.34657532, 0.25248894, 0.4009358 ],\n",
       "        [0.25533977, 0.3463211 , 0.39833915],\n",
       "        [0.22514951, 0.3938577 , 0.38099274],\n",
       "        [0.31061974, 0.2479655 , 0.4414148 ],\n",
       "        [0.36566377, 0.21401176, 0.42032444],\n",
       "        [0.2255249 , 0.38385847, 0.39061666]]], dtype=float32)"
      ]
     },
     "execution_count": 29,
     "metadata": {},
     "output_type": "execute_result"
    }
   ],
   "source": [
    "npy"
   ]
  },
  {
   "cell_type": "code",
   "execution_count": 8,
   "metadata": {},
   "outputs": [
    {
     "data": {
      "text/plain": [
       "(<tf.Tensor: id=1, shape=(3,), dtype=int32, numpy=array([6, 6, 6])>,\n",
       " <tf.Tensor: id=3, shape=(3,), dtype=int32, numpy=array([4, 3, 5])>)"
      ]
     },
     "execution_count": 8,
     "metadata": {},
     "output_type": "execute_result"
    }
   ],
   "source": [
    "label_length,input_length"
   ]
  },
  {
   "cell_type": "markdown",
   "metadata": {},
   "source": [
    "执行 ctc_label_dense_to_sparse(y_true, label_length)，转到相应的方法\n",
    "\n",
    "\n",
    "y_true 的别名为 labels"
   ]
  },
  {
   "cell_type": "code",
   "execution_count": 9,
   "metadata": {},
   "outputs": [],
   "source": [
    "labels = y_true\n",
    "label_lengths =  label_length\n",
    "\n",
    "label_shape = tf.shape(labels)\n",
    "num_batches_tns = tf.stack([label_shape[0]])\n",
    "max_num_labels_tns = tf.stack([label_shape[1]])"
   ]
  },
  {
   "cell_type": "code",
   "execution_count": 10,
   "metadata": {},
   "outputs": [],
   "source": [
    "def range_less_than(_, current_input):\n",
    "    return tf.expand_dims(tf.range(label_shape[1]), 0) < tf.fill(\n",
    "        max_num_labels_tns, current_input)\n",
    "\n",
    "def concatenate(tensors, axis=-1):\n",
    "    \"\"\"Concatenates a list of tensors alongside the specified axis.\n",
    "\n",
    "    # Arguments\n",
    "        tensors: list of tensors to concatenate.\n",
    "        axis: concatenation axis.\n",
    "\n",
    "    # Returns\n",
    "        A tensor.\n",
    "    \"\"\"\n",
    "    if axis < 0:\n",
    "        rank = ndim(tensors[0])\n",
    "        if rank:\n",
    "            axis %= rank\n",
    "        else:\n",
    "            axis = 0\n",
    "\n",
    "    if all([isinstance(x, tf.SparseTensor) for x in tensors]):\n",
    "        return tf.sparse_concat(axis, tensors)\n",
    "    else:\n",
    "        return tf.concat([K.to_dense(x) for x in tensors], axis)"
   ]
  },
  {
   "cell_type": "code",
   "execution_count": 11,
   "metadata": {},
   "outputs": [],
   "source": [
    "from tensorflow.python.ops import functional_ops\n",
    "\n",
    "init = tf.cast(tf.fill([1, label_shape[1]], 0), tf.bool)\n",
    "dense_mask = functional_ops.scan(range_less_than, label_lengths,\n",
    "                                 initializer=init, parallel_iterations=1)\n",
    "dense_mask = dense_mask[:, 0, :]\n",
    "\n",
    "label_array = tf.reshape(tf.tile(tf.range(label_shape[1]), num_batches_tns),\n",
    "                         label_shape)\n",
    "label_ind = tf.boolean_mask(label_array, dense_mask)\n",
    "\n",
    "batch_array = tf.transpose(tf.reshape(tf.tile(tf.range(label_shape[0]),\n",
    "                                              max_num_labels_tns), tf.reverse(label_shape, [0]))) # 这里，tf方法接收的是一维向量，而keras接收的是一个int\n",
    "batch_ind = tf.boolean_mask(batch_array, dense_mask)\n",
    "indices = tf.transpose(tf.reshape(concatenate([batch_ind, label_ind], axis=0), [2, -1]))\n",
    "\n",
    "vals_sparse = tf.gather_nd(labels, indices)"
   ]
  },
  {
   "cell_type": "code",
   "execution_count": 12,
   "metadata": {},
   "outputs": [
    {
     "name": "stdout",
     "output_type": "stream",
     "text": [
      "WARNING:tensorflow:From <ipython-input-12-9ac6a6c16427>:1: to_int64 (from tensorflow.python.ops.math_ops) is deprecated and will be removed in a future version.\n",
      "Instructions for updating:\n",
      "Use tf.cast instead.\n"
     ]
    }
   ],
   "source": [
    "sparse_labels = tf.to_int32(tf.SparseTensor(tf.to_int64(indices), vals_sparse, tf.to_int64(label_shape)))"
   ]
  },
  {
   "cell_type": "code",
   "execution_count": 13,
   "metadata": {},
   "outputs": [
    {
     "data": {
      "text/plain": [
       "<tf.Tensor: id=194, shape=(18,), dtype=int32, numpy=array([1, 2, 3, 1, 2, 4, 3, 1, 2, 3, 5, 1, 2, 1, 0, 2, 3, 4])>"
      ]
     },
     "execution_count": 13,
     "metadata": {},
     "output_type": "execute_result"
    }
   ],
   "source": [
    "sparse_labels.values"
   ]
  },
  {
   "cell_type": "code",
   "execution_count": 14,
   "metadata": {},
   "outputs": [],
   "source": [
    "y_pred = tf.log(tf.transpose(y_pred, perm=[1, 0, 2]) + 1e-7)"
   ]
  },
  {
   "cell_type": "markdown",
   "metadata": {},
   "source": [
    "# 真正计算CTC-loss"
   ]
  },
  {
   "cell_type": "code",
   "execution_count": 21,
   "metadata": {},
   "outputs": [],
   "source": [
    "preprocess_collapse_repeated=False\n",
    "ctc_merge_repeated=True\n",
    "ignore_longer_outputs_than_inputs=False\n"
   ]
  },
  {
   "cell_type": "code",
   "execution_count": null,
   "metadata": {},
   "outputs": [],
   "source": []
  },
  {
   "cell_type": "code",
   "execution_count": null,
   "metadata": {},
   "outputs": [],
   "source": []
  }
 ],
 "metadata": {
  "kernelspec": {
   "display_name": "Python 3",
   "language": "python",
   "name": "python3"
  },
  "language_info": {
   "codemirror_mode": {
    "name": "ipython",
    "version": 3
   },
   "file_extension": ".py",
   "mimetype": "text/x-python",
   "name": "python",
   "nbconvert_exporter": "python",
   "pygments_lexer": "ipython3",
   "version": "3.6.4"
  }
 },
 "nbformat": 4,
 "nbformat_minor": 2
}
