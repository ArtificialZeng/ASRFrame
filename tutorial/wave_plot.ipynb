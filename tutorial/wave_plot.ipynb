{
 "cells": [
  {
   "cell_type": "markdown",
   "metadata": {},
   "source": [
    "主要用于直观的展示声音数据的样式，对声音数据有直观的了解"
   ]
  },
  {
   "cell_type": "code",
   "execution_count": 5,
   "metadata": {},
   "outputs": [],
   "source": [
    "import numpy as np\n",
    "from scipy.io import wavfile\n",
    "\n",
    "sampling_freq,audio = wavfile.read(r'C:\\E\\jupyter_notebook\\voice_reco\\Dataset\\z200\\G0002\\session01\\T0055G0002S0001.wav')"
   ]
  },
  {
   "cell_type": "code",
   "execution_count": 23,
   "metadata": {
    "scrolled": true
   },
   "outputs": [
    {
     "name": "stdout",
     "output_type": "stream",
     "text": [
      "Shape: (33471,)\n",
      "Sampling Freq： 16000\n",
      "Datatype: int16\n",
      "Duration: 2.092\n"
     ]
    }
   ],
   "source": [
    "print('Shape:', audio.shape)\n",
    "print('Sampling Freq：',sampling_freq)\n",
    "print('Datatype:', audio.dtype)\n",
    "print('Duration:', round(audio.shape[0] / float(sampling_freq), 3))"
   ]
  },
  {
   "cell_type": "code",
   "execution_count": 25,
   "metadata": {},
   "outputs": [],
   "source": [
    "from matplotlib import pyplot as plt"
   ]
  },
  {
   "cell_type": "code",
   "execution_count": 26,
   "metadata": {},
   "outputs": [
    {
     "data": {
      "text/plain": [
       "array([ -70, -129, -180,  -70,  -22,   61,   92,   94,   96,   69,   -7,\n",
       "         -6,  -10,  -38,  -32,  -13,  -28,   13,   29,    5,  -22,   47,\n",
       "         84,   84,   94,  105,   75,   12,  -72, -136, -168, -101,    8,\n",
       "         67,  117,   49,   -6,    1,  -66, -116, -128, -113,  -95,  -96,\n",
       "        -96, -136, -222, -263, -170, -115], dtype=int16)"
      ]
     },
     "execution_count": 26,
     "metadata": {},
     "output_type": "execute_result"
    }
   ],
   "source": [
    "audio[:50]"
   ]
  },
  {
   "cell_type": "code",
   "execution_count": 22,
   "metadata": {
    "scrolled": true
   },
   "outputs": [
    {
     "data": {
      "text/plain": [
       "[<matplotlib.lines.Line2D at 0x2395647d400>]"
      ]
     },
     "execution_count": 22,
     "metadata": {},
     "output_type": "execute_result"
    },
    {
     "data": {
      "image/png": "[encoded data removed]",
      "text/plain": [
       "<Figure size 432x288 with 1 Axes>"
      ]
     },
     "metadata": {
      "needs_background": "light"
     },
     "output_type": "display_data"
    }
   ],
   "source": [
    "plt.plot(audio)"
   ]
  }
 ],
 "metadata": {
  "kernelspec": {
   "display_name": "Python 3",
   "language": "python",
   "name": "python3"
  },
  "language_info": {
   "codemirror_mode": {
    "name": "ipython",
    "version": 3
   },
   "file_extension": ".py",
   "mimetype": "text/x-python",
   "name": "python",
   "nbconvert_exporter": "python",
   "pygments_lexer": "ipython3",
   "version": "3.6.4"
  }
 },
 "nbformat": 4,
 "nbformat_minor": 2
}
